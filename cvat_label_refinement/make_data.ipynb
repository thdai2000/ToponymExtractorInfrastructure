{
 "cells": [
  {
   "cell_type": "code",
   "execution_count": 1,
   "id": "initial_id",
   "metadata": {
    "collapsed": true,
    "ExecuteTime": {
     "end_time": "2024-09-04T13:00:44.400599300Z",
     "start_time": "2024-09-04T13:00:43.660389700Z"
    }
   },
   "outputs": [],
   "source": [
    "import json\n",
    "import pandas as pd\n",
    "import glob\n",
    "import os"
   ]
  },
  {
   "cell_type": "code",
   "outputs": [
    {
     "data": {
      "text/plain": "                                               vertices    text illegible  \\\n6481  [[912.0, 429.08], [911.44, 439.28], [912.11, 4...  (mount     false   \n6482  [[570.84, 312.72], [571.41, 304.97], [571.78, ...   hârat     false   \n6483  [[914.84, 366.93], [914.6, 374.04], [913.93, 3...    sion     false   \n6484  [[560.58, 252.28], [560.62, 255.11], [560.68, ...      al     false   \n6485  [[920.47, 312.9], [919.55, 319.38], [918.74, 3...   str.)     false   \n6486  [[560.87, 211.8], [560.9, 218.04], [560.53, 22...    kalâ     false   \n\n     truncated  group_id sequence_order                        crop_name  \n6481     false         1              1  unknown_1907_crop_2468_1674.jpg  \n6482     false         1              1  unknown_1907_crop_2468_1674.jpg  \n6483     false         1              2  unknown_1907_crop_2468_1674.jpg  \n6484     false         1              2  unknown_1907_crop_2468_1674.jpg  \n6485     false         1              3  unknown_1907_crop_2468_1674.jpg  \n6486     false         1              3  unknown_1907_crop_2468_1674.jpg  ",
      "text/html": "<div>\n<style scoped>\n    .dataframe tbody tr th:only-of-type {\n        vertical-align: middle;\n    }\n\n    .dataframe tbody tr th {\n        vertical-align: top;\n    }\n\n    .dataframe thead th {\n        text-align: right;\n    }\n</style>\n<table border=\"1\" class=\"dataframe\">\n  <thead>\n    <tr style=\"text-align: right;\">\n      <th></th>\n      <th>vertices</th>\n      <th>text</th>\n      <th>illegible</th>\n      <th>truncated</th>\n      <th>group_id</th>\n      <th>sequence_order</th>\n      <th>crop_name</th>\n    </tr>\n  </thead>\n  <tbody>\n    <tr>\n      <th>6481</th>\n      <td>[[912.0, 429.08], [911.44, 439.28], [912.11, 4...</td>\n      <td>(mount</td>\n      <td>false</td>\n      <td>false</td>\n      <td>1</td>\n      <td>1</td>\n      <td>unknown_1907_crop_2468_1674.jpg</td>\n    </tr>\n    <tr>\n      <th>6482</th>\n      <td>[[570.84, 312.72], [571.41, 304.97], [571.78, ...</td>\n      <td>hârat</td>\n      <td>false</td>\n      <td>false</td>\n      <td>1</td>\n      <td>1</td>\n      <td>unknown_1907_crop_2468_1674.jpg</td>\n    </tr>\n    <tr>\n      <th>6483</th>\n      <td>[[914.84, 366.93], [914.6, 374.04], [913.93, 3...</td>\n      <td>sion</td>\n      <td>false</td>\n      <td>false</td>\n      <td>1</td>\n      <td>2</td>\n      <td>unknown_1907_crop_2468_1674.jpg</td>\n    </tr>\n    <tr>\n      <th>6484</th>\n      <td>[[560.58, 252.28], [560.62, 255.11], [560.68, ...</td>\n      <td>al</td>\n      <td>false</td>\n      <td>false</td>\n      <td>1</td>\n      <td>2</td>\n      <td>unknown_1907_crop_2468_1674.jpg</td>\n    </tr>\n    <tr>\n      <th>6485</th>\n      <td>[[920.47, 312.9], [919.55, 319.38], [918.74, 3...</td>\n      <td>str.)</td>\n      <td>false</td>\n      <td>false</td>\n      <td>1</td>\n      <td>3</td>\n      <td>unknown_1907_crop_2468_1674.jpg</td>\n    </tr>\n    <tr>\n      <th>6486</th>\n      <td>[[560.87, 211.8], [560.9, 218.04], [560.53, 22...</td>\n      <td>kalâ</td>\n      <td>false</td>\n      <td>false</td>\n      <td>1</td>\n      <td>3</td>\n      <td>unknown_1907_crop_2468_1674.jpg</td>\n    </tr>\n  </tbody>\n</table>\n</div>"
     },
     "execution_count": 2,
     "metadata": {},
     "output_type": "execute_result"
    }
   ],
   "source": [
    "df_old = pd.read_pickle('new_annotation/final/cvat_annotations_20240806_pandas.pkl')\n",
    "df_old[(df_old[\"crop_name\"]=='unknown_1907_crop_2468_1674.jpg') & (df_old['group_id'] == 1)]"
   ],
   "metadata": {
    "collapsed": false,
    "ExecuteTime": {
     "end_time": "2024-09-04T13:00:47.884888400Z",
     "start_time": "2024-09-04T13:00:46.079889100Z"
    }
   },
   "id": "728f994dfdf74d7f",
   "execution_count": 2
  },
  {
   "cell_type": "code",
   "outputs": [],
   "source": [
    "df = None\n",
    "\n",
    "for img_dir in glob.glob('new_annotation/maps_res/*'):\n",
    "    final_pkl = glob.glob(img_dir + \"\\\\*ultimate_corr*.pkl\")\n",
    "    assert len(final_pkl) == 1\n",
    "    df_ = pd.read_pickle(final_pkl[0])\n",
    "    df = pd.concat((df, df_))"
   ],
   "metadata": {
    "collapsed": false,
    "ExecuteTime": {
     "end_time": "2024-09-04T13:00:50.335776300Z",
     "start_time": "2024-09-04T13:00:49.868704800Z"
    }
   },
   "id": "48223bf0bb1e01c7",
   "execution_count": 3
  },
  {
   "cell_type": "code",
   "outputs": [],
   "source": [
    "df.loc[(df['group_id'] == 1) & (df['text'] == '(MOUNT'), 'group_id'] = 2\n",
    "df.loc[(df['group_id'] == 1) & (df['text'] == 'SION'), 'group_id'] = 2\n",
    "df.loc[(df['group_id'] == 1) & (df['text'] == 'STR.)'), 'group_id'] = 2"
   ],
   "metadata": {
    "collapsed": false,
    "ExecuteTime": {
     "end_time": "2024-09-04T13:00:53.850154100Z",
     "start_time": "2024-09-04T13:00:53.824152300Z"
    }
   },
   "id": "20b06a6d8b218e21",
   "execution_count": 4
  },
  {
   "cell_type": "code",
   "outputs": [],
   "source": [
    "df_select = df[['vertices_final', \"text_final\", \"illegible\", \"truncated\", \"group_id\", \"sequence_order\", \"crop_name\"]]"
   ],
   "metadata": {
    "collapsed": false,
    "ExecuteTime": {
     "end_time": "2024-09-04T13:00:55.623649300Z",
     "start_time": "2024-09-04T13:00:55.593614800Z"
    }
   },
   "id": "22408dd5ca2fb4e6",
   "execution_count": 5
  },
  {
   "cell_type": "code",
   "outputs": [],
   "source": [
    "df_renamed = df_select.rename(columns={'text_final': 'text', 'vertices_final': 'vertices'})"
   ],
   "metadata": {
    "collapsed": false,
    "ExecuteTime": {
     "end_time": "2024-09-04T13:00:58.739426Z",
     "start_time": "2024-09-04T13:00:58.722430200Z"
    }
   },
   "id": "bffbbec9c3c38d53",
   "execution_count": 6
  },
  {
   "cell_type": "code",
   "outputs": [],
   "source": [
    "group_counts = df_renamed.groupby(['group_id', 'crop_name'])['group_id'].transform('count')"
   ],
   "metadata": {
    "collapsed": false,
    "ExecuteTime": {
     "end_time": "2024-09-04T13:01:02.769641800Z",
     "start_time": "2024-09-04T13:01:02.756641400Z"
    }
   },
   "id": "1df0d057fcc5e36f",
   "execution_count": 7
  },
  {
   "cell_type": "code",
   "outputs": [],
   "source": [
    "df_renamed.loc[group_counts == 1, 'group_id'] = -1"
   ],
   "metadata": {
    "collapsed": false,
    "ExecuteTime": {
     "end_time": "2024-09-04T13:01:04.464104500Z",
     "start_time": "2024-09-04T13:01:04.454105800Z"
    }
   },
   "id": "a88ae46349217d2",
   "execution_count": 8
  },
  {
   "cell_type": "code",
   "outputs": [],
   "source": [
    "df_renamed.loc[df_renamed['group_id'] == -1, 'sequence_order'] = None"
   ],
   "metadata": {
    "collapsed": false,
    "ExecuteTime": {
     "end_time": "2024-09-04T13:01:06.387569900Z",
     "start_time": "2024-09-04T13:01:06.374576Z"
    }
   },
   "id": "3a22a438cc023688",
   "execution_count": 9
  },
  {
   "cell_type": "code",
   "outputs": [
    {
     "data": {
      "text/plain": "                                             vertices    text illegible  \\\n23  [[(913.7, 490.0), (912.0, 429.08), (914.1, 421...  (MOUNT     false   \n25  [[(913.03, 414.89), (914.84, 366.93)], [(928.5...    SION     false   \n27  [[(915.5, 358.51), (920.47, 312.9)], [(935.66,...   STR.)     false   \n\n   truncated  group_id sequence_order                        crop_name  \n23     false         2              1  unknown_1907_crop_2468_1674.jpg  \n25     false         2              2  unknown_1907_crop_2468_1674.jpg  \n27     false         2              3  unknown_1907_crop_2468_1674.jpg  ",
      "text/html": "<div>\n<style scoped>\n    .dataframe tbody tr th:only-of-type {\n        vertical-align: middle;\n    }\n\n    .dataframe tbody tr th {\n        vertical-align: top;\n    }\n\n    .dataframe thead th {\n        text-align: right;\n    }\n</style>\n<table border=\"1\" class=\"dataframe\">\n  <thead>\n    <tr style=\"text-align: right;\">\n      <th></th>\n      <th>vertices</th>\n      <th>text</th>\n      <th>illegible</th>\n      <th>truncated</th>\n      <th>group_id</th>\n      <th>sequence_order</th>\n      <th>crop_name</th>\n    </tr>\n  </thead>\n  <tbody>\n    <tr>\n      <th>23</th>\n      <td>[[(913.7, 490.0), (912.0, 429.08), (914.1, 421...</td>\n      <td>(MOUNT</td>\n      <td>false</td>\n      <td>false</td>\n      <td>2</td>\n      <td>1</td>\n      <td>unknown_1907_crop_2468_1674.jpg</td>\n    </tr>\n    <tr>\n      <th>25</th>\n      <td>[[(913.03, 414.89), (914.84, 366.93)], [(928.5...</td>\n      <td>SION</td>\n      <td>false</td>\n      <td>false</td>\n      <td>2</td>\n      <td>2</td>\n      <td>unknown_1907_crop_2468_1674.jpg</td>\n    </tr>\n    <tr>\n      <th>27</th>\n      <td>[[(915.5, 358.51), (920.47, 312.9)], [(935.66,...</td>\n      <td>STR.)</td>\n      <td>false</td>\n      <td>false</td>\n      <td>2</td>\n      <td>3</td>\n      <td>unknown_1907_crop_2468_1674.jpg</td>\n    </tr>\n  </tbody>\n</table>\n</div>"
     },
     "execution_count": 10,
     "metadata": {},
     "output_type": "execute_result"
    }
   ],
   "source": [
    "df_renamed[(df_renamed[\"crop_name\"]=='unknown_1907_crop_2468_1674.jpg') & (df_renamed['group_id'] == 2)]"
   ],
   "metadata": {
    "collapsed": false,
    "ExecuteTime": {
     "end_time": "2024-09-04T13:01:08.179090100Z",
     "start_time": "2024-09-04T13:01:08.141093900Z"
    }
   },
   "id": "c5c2941aa38bacd3",
   "execution_count": 10
  },
  {
   "cell_type": "code",
   "outputs": [
    {
     "data": {
      "text/plain": "Empty DataFrame\nColumns: []\nIndex: []",
      "text/html": "<div>\n<style scoped>\n    .dataframe tbody tr th:only-of-type {\n        vertical-align: middle;\n    }\n\n    .dataframe tbody tr th {\n        vertical-align: top;\n    }\n\n    .dataframe thead th {\n        text-align: right;\n    }\n</style>\n<table border=\"1\" class=\"dataframe\">\n  <thead>\n    <tr style=\"text-align: right;\">\n      <th></th>\n    </tr>\n  </thead>\n  <tbody>\n  </tbody>\n</table>\n</div>"
     },
     "execution_count": 11,
     "metadata": {},
     "output_type": "execute_result"
    }
   ],
   "source": [
    "def check_single_word(df_):\n",
    "    # Check if the group has only one row\n",
    "    if len(df_) == 1:\n",
    "        # Access the single value in 'group_id' correctly using .iloc[0]\n",
    "        if df_['group_id'].iloc[0] != -1:\n",
    "            display(df_)\n",
    "\n",
    "# Apply the function to each group\n",
    "df_renamed.groupby(['group_id', 'crop_name']).apply(check_single_word)"
   ],
   "metadata": {
    "collapsed": false,
    "ExecuteTime": {
     "end_time": "2024-09-04T13:01:11.462953400Z",
     "start_time": "2024-09-04T13:01:11.399934100Z"
    }
   },
   "id": "a7e4e794de3d5411",
   "execution_count": 11
  },
  {
   "cell_type": "code",
   "outputs": [
    {
     "data": {
      "text/plain": "Empty DataFrame\nColumns: []\nIndex: []",
      "text/html": "<div>\n<style scoped>\n    .dataframe tbody tr th:only-of-type {\n        vertical-align: middle;\n    }\n\n    .dataframe tbody tr th {\n        vertical-align: top;\n    }\n\n    .dataframe thead th {\n        text-align: right;\n    }\n</style>\n<table border=\"1\" class=\"dataframe\">\n  <thead>\n    <tr style=\"text-align: right;\">\n      <th></th>\n    </tr>\n  </thead>\n  <tbody>\n  </tbody>\n</table>\n</div>"
     },
     "execution_count": 12,
     "metadata": {},
     "output_type": "execute_result"
    }
   ],
   "source": [
    "def check_multi_word(df_):\n",
    "    # Check if the group has only one row\n",
    "    if df_['group_id'].iloc[0] != -1:\n",
    "        # Access the single value in 'group_id' correctly using .iloc[0]\n",
    "        if len(df_) == 1:\n",
    "            display(df_)\n",
    "\n",
    "# Apply the function to each group\n",
    "df_renamed.groupby(['group_id', 'crop_name']).apply(check_multi_word)"
   ],
   "metadata": {
    "collapsed": false,
    "ExecuteTime": {
     "end_time": "2024-09-04T13:01:14.749586700Z",
     "start_time": "2024-09-04T13:01:14.603584200Z"
    }
   },
   "id": "164094d0a1c2a335",
   "execution_count": 12
  },
  {
   "cell_type": "code",
   "outputs": [],
   "source": [
    "df_sorted = df_renamed.sort_values(by=['crop_name', 'group_id', 'sequence_order']).reset_index(drop=True)"
   ],
   "metadata": {
    "collapsed": false,
    "ExecuteTime": {
     "end_time": "2024-09-04T13:01:17.120887300Z",
     "start_time": "2024-09-04T13:01:17.074888100Z"
    }
   },
   "id": "1a284949c128b1ef",
   "execution_count": 13
  },
  {
   "cell_type": "code",
   "outputs": [
    {
     "data": {
      "text/plain": "                                               vertices       text illegible  \\\n0     [[(1981.629486084, 995.9494628906), (1982.2384...          R     false   \n1     [[(1953.5, 1316.43), (1997.99, 1344.34)], [(19...        AVE     false   \n2     [[(1907.7, 0.0), (1950.95, 53.37)], [(1929.25,...      ngand     false   \n3     [[(1055.73, 0.49), (1073.29, 20.91), (1085.83,...   refjulhe     false   \n4     [[(315.78, 406.17), (579.67, 404.41)], [(580.1...    NEUILLY     false   \n...                                                 ...        ...       ...   \n7470  [[(122.83, 859.32), (223.15, 860.86)], [(224.5...       Thor     false   \n7471  [[(538.2, 768.5), (618.35, 771.02)], [(617.07,...      Ruin.     false   \n7472  [[(619.62, 769.75), (650.15, 771.02)], [(648.8...         d.     false   \n7473  [[(540.0, 798.93), (677.05, 800.27)], [(675.31...  Johañiter     false   \n7474  [[(553.07, 827.44), (578.13, 828.03), (636.11,...      Hosp.     false   \n\n     truncated  group_id sequence_order                     crop_name  \n0        false        -1           None  12148_btv1b53027745sf1_0.jpg  \n1        false        -1           None  12148_btv1b53027745sf1_0.jpg  \n2        false        -1           None  12148_btv1b53027745sf1_0.jpg  \n3        false        -1           None  12148_btv1b53027745sf1_0.jpg  \n4        false        -1           None  12148_btv1b53027745sf1_0.jpg  \n...        ...       ...            ...                           ...  \n7470     false         6              2  wolff_1872_crop_887_1671.jpg  \n7471     false         7              1  wolff_1872_crop_887_1671.jpg  \n7472     false         7              2  wolff_1872_crop_887_1671.jpg  \n7473     false         7              3  wolff_1872_crop_887_1671.jpg  \n7474     false         7              4  wolff_1872_crop_887_1671.jpg  \n\n[7475 rows x 7 columns]",
      "text/html": "<div>\n<style scoped>\n    .dataframe tbody tr th:only-of-type {\n        vertical-align: middle;\n    }\n\n    .dataframe tbody tr th {\n        vertical-align: top;\n    }\n\n    .dataframe thead th {\n        text-align: right;\n    }\n</style>\n<table border=\"1\" class=\"dataframe\">\n  <thead>\n    <tr style=\"text-align: right;\">\n      <th></th>\n      <th>vertices</th>\n      <th>text</th>\n      <th>illegible</th>\n      <th>truncated</th>\n      <th>group_id</th>\n      <th>sequence_order</th>\n      <th>crop_name</th>\n    </tr>\n  </thead>\n  <tbody>\n    <tr>\n      <th>0</th>\n      <td>[[(1981.629486084, 995.9494628906), (1982.2384...</td>\n      <td>R</td>\n      <td>false</td>\n      <td>false</td>\n      <td>-1</td>\n      <td>None</td>\n      <td>12148_btv1b53027745sf1_0.jpg</td>\n    </tr>\n    <tr>\n      <th>1</th>\n      <td>[[(1953.5, 1316.43), (1997.99, 1344.34)], [(19...</td>\n      <td>AVE</td>\n      <td>false</td>\n      <td>false</td>\n      <td>-1</td>\n      <td>None</td>\n      <td>12148_btv1b53027745sf1_0.jpg</td>\n    </tr>\n    <tr>\n      <th>2</th>\n      <td>[[(1907.7, 0.0), (1950.95, 53.37)], [(1929.25,...</td>\n      <td>ngand</td>\n      <td>false</td>\n      <td>false</td>\n      <td>-1</td>\n      <td>None</td>\n      <td>12148_btv1b53027745sf1_0.jpg</td>\n    </tr>\n    <tr>\n      <th>3</th>\n      <td>[[(1055.73, 0.49), (1073.29, 20.91), (1085.83,...</td>\n      <td>refjulhe</td>\n      <td>false</td>\n      <td>false</td>\n      <td>-1</td>\n      <td>None</td>\n      <td>12148_btv1b53027745sf1_0.jpg</td>\n    </tr>\n    <tr>\n      <th>4</th>\n      <td>[[(315.78, 406.17), (579.67, 404.41)], [(580.1...</td>\n      <td>NEUILLY</td>\n      <td>false</td>\n      <td>false</td>\n      <td>-1</td>\n      <td>None</td>\n      <td>12148_btv1b53027745sf1_0.jpg</td>\n    </tr>\n    <tr>\n      <th>...</th>\n      <td>...</td>\n      <td>...</td>\n      <td>...</td>\n      <td>...</td>\n      <td>...</td>\n      <td>...</td>\n      <td>...</td>\n    </tr>\n    <tr>\n      <th>7470</th>\n      <td>[[(122.83, 859.32), (223.15, 860.86)], [(224.5...</td>\n      <td>Thor</td>\n      <td>false</td>\n      <td>false</td>\n      <td>6</td>\n      <td>2</td>\n      <td>wolff_1872_crop_887_1671.jpg</td>\n    </tr>\n    <tr>\n      <th>7471</th>\n      <td>[[(538.2, 768.5), (618.35, 771.02)], [(617.07,...</td>\n      <td>Ruin.</td>\n      <td>false</td>\n      <td>false</td>\n      <td>7</td>\n      <td>1</td>\n      <td>wolff_1872_crop_887_1671.jpg</td>\n    </tr>\n    <tr>\n      <th>7472</th>\n      <td>[[(619.62, 769.75), (650.15, 771.02)], [(648.8...</td>\n      <td>d.</td>\n      <td>false</td>\n      <td>false</td>\n      <td>7</td>\n      <td>2</td>\n      <td>wolff_1872_crop_887_1671.jpg</td>\n    </tr>\n    <tr>\n      <th>7473</th>\n      <td>[[(540.0, 798.93), (677.05, 800.27)], [(675.31...</td>\n      <td>Johañiter</td>\n      <td>false</td>\n      <td>false</td>\n      <td>7</td>\n      <td>3</td>\n      <td>wolff_1872_crop_887_1671.jpg</td>\n    </tr>\n    <tr>\n      <th>7474</th>\n      <td>[[(553.07, 827.44), (578.13, 828.03), (636.11,...</td>\n      <td>Hosp.</td>\n      <td>false</td>\n      <td>false</td>\n      <td>7</td>\n      <td>4</td>\n      <td>wolff_1872_crop_887_1671.jpg</td>\n    </tr>\n  </tbody>\n</table>\n<p>7475 rows × 7 columns</p>\n</div>"
     },
     "execution_count": 14,
     "metadata": {},
     "output_type": "execute_result"
    }
   ],
   "source": [
    "df_sorted"
   ],
   "metadata": {
    "collapsed": false,
    "ExecuteTime": {
     "end_time": "2024-09-04T13:01:20.564262900Z",
     "start_time": "2024-09-04T13:01:20.476267700Z"
    }
   },
   "id": "70d2991c658dcda1",
   "execution_count": 14
  },
  {
   "cell_type": "code",
   "outputs": [],
   "source": [
    "def reorder_sequence(df_):\n",
    "    if len(df_) > 1 and df_[\"group_id\"].iloc[0] != -1:\n",
    "        df_['sequence_order'] = range(1, len(df_) + 1)\n",
    "    return df_\n",
    "\n",
    "# Apply the function to reorder the sequence_order for each group\n",
    "df_reordered = df_renamed.groupby(['group_id', 'crop_name'], group_keys=False).apply(reorder_sequence).reset_index(drop=True)"
   ],
   "metadata": {
    "collapsed": false,
    "ExecuteTime": {
     "end_time": "2024-09-04T13:01:36.507267100Z",
     "start_time": "2024-09-04T13:01:34.163270600Z"
    }
   },
   "id": "149a0952dd50360e",
   "execution_count": 15
  },
  {
   "cell_type": "code",
   "outputs": [
    {
     "data": {
      "text/plain": "                                               vertices        text illegible  \\\n74    [[(0.01, 894.19), (51.23, 823.61), (92.51, 778...     QUARTER     false   \n151   [[(683.09, 583.16), (802.62, 582.97)], [(802.3...  Gethsemane     false   \n229   [[(1.97, 586.66), (15.81, 560.13), (44.25, 522...     QUARTER     false   \n307   [[(281.02, 542.61), (331.28, 531.91), (346.71,...    Barracks     false   \n393   [[(720.47, 872.52), (774.78, 871.27)], [(774.0...       Tombs     false   \n...                                                 ...         ...       ...   \n5552  [[(519.52, 638.77), (547.82, 638.77)], [(547.2...         the     false   \n5566  [[(549.96, 636.37), (567.57, 637.44), (587.86,...     Eternal     false   \n5580  [[(613.81, 637.04), (653.85, 637.57)], [(652.2...        Gate     false   \n5594  [[(523.85, 652.52), (578.31, 654.12)], [(577.7...      Golden     false   \n5607  [[(525.61, 665.52), (568.32, 666.59)], [(566.9...        Gate     false   \n\n     truncated  group_id sequence_order                     crop_name  \n74       false        -1           None  weller_1860_crop_752_605.jpg  \n151      false        -1           None  weller_1860_crop_752_605.jpg  \n229      false        -1           None  weller_1860_crop_752_605.jpg  \n307      false        -1           None  weller_1860_crop_752_605.jpg  \n393      false         2              1  weller_1860_crop_752_605.jpg  \n...        ...       ...            ...                           ...  \n5552     false        59              4  weller_1860_crop_752_605.jpg  \n5566     false        59              5  weller_1860_crop_752_605.jpg  \n5580     false        59              6  weller_1860_crop_752_605.jpg  \n5594     false        59              7  weller_1860_crop_752_605.jpg  \n5607     false        59              8  weller_1860_crop_752_605.jpg  \n\n[159 rows x 7 columns]",
      "text/html": "<div>\n<style scoped>\n    .dataframe tbody tr th:only-of-type {\n        vertical-align: middle;\n    }\n\n    .dataframe tbody tr th {\n        vertical-align: top;\n    }\n\n    .dataframe thead th {\n        text-align: right;\n    }\n</style>\n<table border=\"1\" class=\"dataframe\">\n  <thead>\n    <tr style=\"text-align: right;\">\n      <th></th>\n      <th>vertices</th>\n      <th>text</th>\n      <th>illegible</th>\n      <th>truncated</th>\n      <th>group_id</th>\n      <th>sequence_order</th>\n      <th>crop_name</th>\n    </tr>\n  </thead>\n  <tbody>\n    <tr>\n      <th>74</th>\n      <td>[[(0.01, 894.19), (51.23, 823.61), (92.51, 778...</td>\n      <td>QUARTER</td>\n      <td>false</td>\n      <td>false</td>\n      <td>-1</td>\n      <td>None</td>\n      <td>weller_1860_crop_752_605.jpg</td>\n    </tr>\n    <tr>\n      <th>151</th>\n      <td>[[(683.09, 583.16), (802.62, 582.97)], [(802.3...</td>\n      <td>Gethsemane</td>\n      <td>false</td>\n      <td>false</td>\n      <td>-1</td>\n      <td>None</td>\n      <td>weller_1860_crop_752_605.jpg</td>\n    </tr>\n    <tr>\n      <th>229</th>\n      <td>[[(1.97, 586.66), (15.81, 560.13), (44.25, 522...</td>\n      <td>QUARTER</td>\n      <td>false</td>\n      <td>false</td>\n      <td>-1</td>\n      <td>None</td>\n      <td>weller_1860_crop_752_605.jpg</td>\n    </tr>\n    <tr>\n      <th>307</th>\n      <td>[[(281.02, 542.61), (331.28, 531.91), (346.71,...</td>\n      <td>Barracks</td>\n      <td>false</td>\n      <td>false</td>\n      <td>-1</td>\n      <td>None</td>\n      <td>weller_1860_crop_752_605.jpg</td>\n    </tr>\n    <tr>\n      <th>393</th>\n      <td>[[(720.47, 872.52), (774.78, 871.27)], [(774.0...</td>\n      <td>Tombs</td>\n      <td>false</td>\n      <td>false</td>\n      <td>2</td>\n      <td>1</td>\n      <td>weller_1860_crop_752_605.jpg</td>\n    </tr>\n    <tr>\n      <th>...</th>\n      <td>...</td>\n      <td>...</td>\n      <td>...</td>\n      <td>...</td>\n      <td>...</td>\n      <td>...</td>\n      <td>...</td>\n    </tr>\n    <tr>\n      <th>5552</th>\n      <td>[[(519.52, 638.77), (547.82, 638.77)], [(547.2...</td>\n      <td>the</td>\n      <td>false</td>\n      <td>false</td>\n      <td>59</td>\n      <td>4</td>\n      <td>weller_1860_crop_752_605.jpg</td>\n    </tr>\n    <tr>\n      <th>5566</th>\n      <td>[[(549.96, 636.37), (567.57, 637.44), (587.86,...</td>\n      <td>Eternal</td>\n      <td>false</td>\n      <td>false</td>\n      <td>59</td>\n      <td>5</td>\n      <td>weller_1860_crop_752_605.jpg</td>\n    </tr>\n    <tr>\n      <th>5580</th>\n      <td>[[(613.81, 637.04), (653.85, 637.57)], [(652.2...</td>\n      <td>Gate</td>\n      <td>false</td>\n      <td>false</td>\n      <td>59</td>\n      <td>6</td>\n      <td>weller_1860_crop_752_605.jpg</td>\n    </tr>\n    <tr>\n      <th>5594</th>\n      <td>[[(523.85, 652.52), (578.31, 654.12)], [(577.7...</td>\n      <td>Golden</td>\n      <td>false</td>\n      <td>false</td>\n      <td>59</td>\n      <td>7</td>\n      <td>weller_1860_crop_752_605.jpg</td>\n    </tr>\n    <tr>\n      <th>5607</th>\n      <td>[[(525.61, 665.52), (568.32, 666.59)], [(566.9...</td>\n      <td>Gate</td>\n      <td>false</td>\n      <td>false</td>\n      <td>59</td>\n      <td>8</td>\n      <td>weller_1860_crop_752_605.jpg</td>\n    </tr>\n  </tbody>\n</table>\n<p>159 rows × 7 columns</p>\n</div>"
     },
     "execution_count": 16,
     "metadata": {},
     "output_type": "execute_result"
    }
   ],
   "source": [
    "df_reordered[df_reordered[\"crop_name\"]==\"weller_1860_crop_752_605.jpg\"]"
   ],
   "metadata": {
    "collapsed": false,
    "ExecuteTime": {
     "end_time": "2024-09-04T13:01:41.746345300Z",
     "start_time": "2024-09-04T13:01:41.654345400Z"
    }
   },
   "id": "dc18e0c5f16fb4f2",
   "execution_count": 16
  },
  {
   "cell_type": "code",
   "outputs": [],
   "source": [
    "df_reordered.to_pickle('new_annotation/final/cvat_annotations_20240904_pandas.pkl')"
   ],
   "metadata": {
    "collapsed": false,
    "ExecuteTime": {
     "end_time": "2024-09-04T13:02:00.917789300Z",
     "start_time": "2024-09-04T13:02:00.871752900Z"
    }
   },
   "id": "55c339485e749dc8",
   "execution_count": 17
  },
  {
   "cell_type": "code",
   "outputs": [],
   "source": [
    "all_crop_labels = df_reordered"
   ],
   "metadata": {
    "collapsed": false,
    "ExecuteTime": {
     "end_time": "2024-09-04T13:02:03.909060400Z",
     "start_time": "2024-09-04T13:02:03.900060500Z"
    }
   },
   "id": "3f9ddd68de58014a",
   "execution_count": 18
  },
  {
   "cell_type": "code",
   "outputs": [
    {
     "data": {
      "text/plain": "geographic_area\nparis        3950\njerusalem    3525\nName: count, dtype: int64"
     },
     "execution_count": 19,
     "metadata": {},
     "output_type": "execute_result"
    }
   ],
   "source": [
    "all_crop_labels['geographic_area'] = all_crop_labels['crop_name'].apply(lambda x: 'paris' if x.split('_')[0] == 'BHVP' or x.split('_')[0].isdigit() else 'jerusalem')\n",
    "all_crop_labels.geographic_area.value_counts()"
   ],
   "metadata": {
    "collapsed": false,
    "ExecuteTime": {
     "end_time": "2024-09-04T13:02:06.624662600Z",
     "start_time": "2024-09-04T13:02:06.610662100Z"
    }
   },
   "id": "a6a9df08394011f5",
   "execution_count": 19
  },
  {
   "cell_type": "code",
   "outputs": [
    {
     "name": "stdout",
     "output_type": "stream",
     "text": [
      "paris - legible bounding boxes:  3788\n",
      "paris - legible MW toponyms 1116\n",
      "paris - legible SW toponyms 838\n",
      "jerusalem - legible bounding boxes:  3417\n",
      "jerusalem - legible MW toponyms 807\n",
      "jerusalem - legible SW toponyms 908\n"
     ]
    }
   ],
   "source": [
    "def region_count(region, all_crop_labels):\n",
    "    all_crop_labels = all_crop_labels[all_crop_labels['illegible'] == 'false']\n",
    "    mwtoponyms = all_crop_labels[all_crop_labels['group_id'] != -1][['crop_name', 'group_id', 'geographic_area']].drop_duplicates()\n",
    "    swtoponyms = all_crop_labels[all_crop_labels['group_id'] == -1][['crop_name', 'group_id', 'geographic_area']]\n",
    "    print(region + ' - legible bounding boxes: ', len(all_crop_labels[all_crop_labels['geographic_area'] == region]))\n",
    "    print(region + ' - legible MW toponyms', len(mwtoponyms[mwtoponyms['geographic_area'] == region]))\n",
    "    print(region + ' - legible SW toponyms', len(swtoponyms[swtoponyms['geographic_area'] == region]))\n",
    "region_count('paris', all_crop_labels)\n",
    "region_count('jerusalem', all_crop_labels)"
   ],
   "metadata": {
    "collapsed": false,
    "ExecuteTime": {
     "end_time": "2024-09-04T13:02:13.326662500Z",
     "start_time": "2024-09-04T13:02:13.282663400Z"
    }
   },
   "id": "32935c58ce6f44eb",
   "execution_count": 20
  },
  {
   "cell_type": "code",
   "outputs": [
    {
     "data": {
      "text/plain": "Empty DataFrame\nColumns: [vertices, text, illegible, truncated, group_id, sequence_order, crop_name, geographic_area]\nIndex: []",
      "text/html": "<div>\n<style scoped>\n    .dataframe tbody tr th:only-of-type {\n        vertical-align: middle;\n    }\n\n    .dataframe tbody tr th {\n        vertical-align: top;\n    }\n\n    .dataframe thead th {\n        text-align: right;\n    }\n</style>\n<table border=\"1\" class=\"dataframe\">\n  <thead>\n    <tr style=\"text-align: right;\">\n      <th></th>\n      <th>vertices</th>\n      <th>text</th>\n      <th>illegible</th>\n      <th>truncated</th>\n      <th>group_id</th>\n      <th>sequence_order</th>\n      <th>crop_name</th>\n      <th>geographic_area</th>\n    </tr>\n  </thead>\n  <tbody>\n  </tbody>\n</table>\n</div>"
     },
     "execution_count": 21,
     "metadata": {},
     "output_type": "execute_result"
    }
   ],
   "source": [
    "no_text = all_crop_labels[~all_crop_labels['text'].notna()]\n",
    "no_text[no_text['illegible'] == 'false']"
   ],
   "metadata": {
    "collapsed": false,
    "ExecuteTime": {
     "end_time": "2024-09-04T13:02:22.190402600Z",
     "start_time": "2024-09-04T13:02:22.164404700Z"
    }
   },
   "id": "133b9b5de2f08e3f",
   "execution_count": 21
  },
  {
   "cell_type": "code",
   "outputs": [
    {
     "data": {
      "text/plain": "Empty DataFrame\nColumns: [vertices, text, illegible, truncated, group_id, sequence_order, crop_name, geographic_area]\nIndex: []",
      "text/html": "<div>\n<style scoped>\n    .dataframe tbody tr th:only-of-type {\n        vertical-align: middle;\n    }\n\n    .dataframe tbody tr th {\n        vertical-align: top;\n    }\n\n    .dataframe thead th {\n        text-align: right;\n    }\n</style>\n<table border=\"1\" class=\"dataframe\">\n  <thead>\n    <tr style=\"text-align: right;\">\n      <th></th>\n      <th>vertices</th>\n      <th>text</th>\n      <th>illegible</th>\n      <th>truncated</th>\n      <th>group_id</th>\n      <th>sequence_order</th>\n      <th>crop_name</th>\n      <th>geographic_area</th>\n    </tr>\n  </thead>\n  <tbody>\n  </tbody>\n</table>\n</div>"
     },
     "execution_count": 22,
     "metadata": {},
     "output_type": "execute_result"
    }
   ],
   "source": [
    "in_group = all_crop_labels[all_crop_labels['group_id'] != -1]\n",
    "in_group[~in_group['sequence_order'].notna()]"
   ],
   "metadata": {
    "collapsed": false,
    "ExecuteTime": {
     "end_time": "2024-09-04T13:02:24.275529500Z",
     "start_time": "2024-09-04T13:02:24.236501200Z"
    }
   },
   "id": "94f78aa2881f067b",
   "execution_count": 22
  },
  {
   "cell_type": "code",
   "outputs": [],
   "source": [
    "import json\n",
    "\n",
    "dict_list = []\n",
    "for image in all_crop_labels['crop_name'].drop_duplicates():\n",
    "\n",
    "    # isolate labels w and wout groups\n",
    "    tmp = all_crop_labels[all_crop_labels['crop_name'] == image].copy()\n",
    "    tmp_single_word = tmp[tmp['group_id'] == -1]\n",
    "    tmp_group = tmp[tmp['group_id'] != -1]\n",
    "\n",
    "    # name image\n",
    "    img_dict = {}\n",
    "    img_dict['image'] = image\n",
    "\n",
    "    # create list of toponyms\n",
    "    groups_list = []\n",
    "    for index, row in tmp_single_word.iterrows():\n",
    "        groups_list.append([{'vertices': row['vertices'], 'text': row['text'], 'illegible': row['illegible'], 'truncated': row['truncated']}])\n",
    "    for group_id in tmp_group['group_id'].drop_duplicates():\n",
    "        tmp_group_id_lst = []\n",
    "        tmp_group_id = tmp_group[tmp_group['group_id'] == group_id].copy()\n",
    "        for index, row in tmp_group_id.iterrows():\n",
    "            tmp_group_id_lst.append({'vertices': row['vertices'], 'text': row['text'], 'illegible': row['illegible'], 'truncated': row['truncated']})\n",
    "        groups_list.append(tmp_group_id_lst)\n",
    "\n",
    "    # add toponyms list (list of lists, where single-word toponyms are single element lists) to img_dict\n",
    "    img_dict['groups'] = groups_list\n",
    "\n",
    "    dict_list.append(img_dict)\n",
    "\n",
    "with open('new_annotation/final/cvat_annotations_' + '20240904' + '_ICDARstructure.json', 'w') as f:\n",
    "    json.dump(dict_list, f)"
   ],
   "metadata": {
    "collapsed": false,
    "ExecuteTime": {
     "end_time": "2024-09-04T13:25:46.243049200Z",
     "start_time": "2024-09-04T13:25:44.406822900Z"
    }
   },
   "id": "c488d1504423a484",
   "execution_count": 28
  },
  {
   "cell_type": "code",
   "outputs": [
    {
     "data": {
      "text/plain": "                                               vertices          text  \\\n22    [[(445.4, 319.5), (755.3, 322.89), (982.2, 323...      MILITAIR   \n102   [[(464.85, 451.57), (578.44, 452.23)], [(579.7...           par   \n182   [[(103.29, 432.44), (182.93, 432.44)], [(183.8...            de   \n261   [[(16.2663173676, 522.515411377), (18.88991546...            de   \n341   [[(0.76, 432.33), (58.6, 433.44)], [(59.93, 49...            le   \n421   [[(37.6, 879.66), (123.56, 851.82), (239.1, 82...         Seine   \n500   [[(323.5045928955, 742.2063674927), (325.55422...            R.   \n578   [[(604.81, 427.26), (684.52, 426.59)], [(683.8...            J.   \n654   [[(694.49, 425.93), (776.79, 426.59)], [(780.1...            G.   \n730   [[(790.81, 423.93), (982.78, 425.26)], [(984.1...          Heck   \n803   [[(887.97, 520.17), (998.95, 526.93)], [(998.9...          Fort   \n875   [[(764.62, 519.6), (858.29, 527.55)], [(858.86...           des   \n946   [[(110.74, 513.34), (411.93, 521.59)], [(410.3...    l'Enceinte   \n1019  [[(429.33, 517.59), (540.46, 523.52), (614.04,...   bastionnée,   \n1089  [[(211.54, 444.49), (253.82, 445.13)], [(255.1...            1:   \n1160  [[(257.72, 445.65), (440.31, 449.15)], [(439.9...        50,000   \n1229  [[(0.0, 319.68), (212.98, 323.45)], [(218.8, 4...           QUE   \n1297  [[(257.6, 323.5), (408.73, 321.52)], [(400.98,...            ET   \n1365  [[(255.62, 205.23), (366.1, 201.4)], [(381.6, ...            R.   \n1432  [[(383.53, 195.54), (457.18, 193.6)], [(462.99...            F.   \n1517  [[(158.7, 331.2), (147.09, 247.87), (152.9, 20...  BIBLIOTHEQUE   \n1581  [[(416.48, 52.12), (457.18, 67.63), (503.69, 9...     NATIONALE   \n1646  [[(279.56, 398.85), (337.95, 400.93), (366.11,...        GÉOGR.   \n1712  [[(784.34, 833.83), (830.46, 834.75)], [(827.7...           St.   \n1773  [[(831.02, 837.52), (959.75, 844.1)], [(959.4,...          Ouen   \n1841  [[(779.97, 963.55), (821.5, 968.32)], [(819.59...            La   \n1900  [[(831.9, 964.0), (886.17, 961.25)], [(882.79,...          Mon.   \n1959  [[(889.12, 963.92), (1000.0, 962.85)], [(1000....       Blanche   \n\n     illegible truncated  group_id sequence_order  \\\n22       false      true        -1           None   \n102      false     false        -1           None   \n182      false     false        -1           None   \n261      false     false        -1           None   \n341      false     false        -1           None   \n421      false     false        -1           None   \n500      false     false        -1           None   \n578      false     false        -1           None   \n654      false     false        -1           None   \n730      false     false        -1           None   \n803      false     false        -1           None   \n875      false     false        -1           None   \n946      false     false        -1           None   \n1019     false     false        -1           None   \n1089     false     false        -1           None   \n1160     false     false        -1           None   \n1229     false      true        -1           None   \n1297     false     false        -1           None   \n1365     false     false        -1           None   \n1432     false     false        -1           None   \n1517     false     false         2              1   \n1581     false     false         2              2   \n1646     false     false         2              3   \n1712     false     false         3              1   \n1773     false     false         3              2   \n1841     false     false         4              1   \n1900     false     false         4              2   \n1959     false      true         4              3   \n\n                        crop_name geographic_area  \n22    12148_btv1b8440780mf1_0.png           paris  \n102   12148_btv1b8440780mf1_0.png           paris  \n182   12148_btv1b8440780mf1_0.png           paris  \n261   12148_btv1b8440780mf1_0.png           paris  \n341   12148_btv1b8440780mf1_0.png           paris  \n421   12148_btv1b8440780mf1_0.png           paris  \n500   12148_btv1b8440780mf1_0.png           paris  \n578   12148_btv1b8440780mf1_0.png           paris  \n654   12148_btv1b8440780mf1_0.png           paris  \n730   12148_btv1b8440780mf1_0.png           paris  \n803   12148_btv1b8440780mf1_0.png           paris  \n875   12148_btv1b8440780mf1_0.png           paris  \n946   12148_btv1b8440780mf1_0.png           paris  \n1019  12148_btv1b8440780mf1_0.png           paris  \n1089  12148_btv1b8440780mf1_0.png           paris  \n1160  12148_btv1b8440780mf1_0.png           paris  \n1229  12148_btv1b8440780mf1_0.png           paris  \n1297  12148_btv1b8440780mf1_0.png           paris  \n1365  12148_btv1b8440780mf1_0.png           paris  \n1432  12148_btv1b8440780mf1_0.png           paris  \n1517  12148_btv1b8440780mf1_0.png           paris  \n1581  12148_btv1b8440780mf1_0.png           paris  \n1646  12148_btv1b8440780mf1_0.png           paris  \n1712  12148_btv1b8440780mf1_0.png           paris  \n1773  12148_btv1b8440780mf1_0.png           paris  \n1841  12148_btv1b8440780mf1_0.png           paris  \n1900  12148_btv1b8440780mf1_0.png           paris  \n1959  12148_btv1b8440780mf1_0.png           paris  ",
      "text/html": "<div>\n<style scoped>\n    .dataframe tbody tr th:only-of-type {\n        vertical-align: middle;\n    }\n\n    .dataframe tbody tr th {\n        vertical-align: top;\n    }\n\n    .dataframe thead th {\n        text-align: right;\n    }\n</style>\n<table border=\"1\" class=\"dataframe\">\n  <thead>\n    <tr style=\"text-align: right;\">\n      <th></th>\n      <th>vertices</th>\n      <th>text</th>\n      <th>illegible</th>\n      <th>truncated</th>\n      <th>group_id</th>\n      <th>sequence_order</th>\n      <th>crop_name</th>\n      <th>geographic_area</th>\n    </tr>\n  </thead>\n  <tbody>\n    <tr>\n      <th>22</th>\n      <td>[[(445.4, 319.5), (755.3, 322.89), (982.2, 323...</td>\n      <td>MILITAIR</td>\n      <td>false</td>\n      <td>true</td>\n      <td>-1</td>\n      <td>None</td>\n      <td>12148_btv1b8440780mf1_0.png</td>\n      <td>paris</td>\n    </tr>\n    <tr>\n      <th>102</th>\n      <td>[[(464.85, 451.57), (578.44, 452.23)], [(579.7...</td>\n      <td>par</td>\n      <td>false</td>\n      <td>false</td>\n      <td>-1</td>\n      <td>None</td>\n      <td>12148_btv1b8440780mf1_0.png</td>\n      <td>paris</td>\n    </tr>\n    <tr>\n      <th>182</th>\n      <td>[[(103.29, 432.44), (182.93, 432.44)], [(183.8...</td>\n      <td>de</td>\n      <td>false</td>\n      <td>false</td>\n      <td>-1</td>\n      <td>None</td>\n      <td>12148_btv1b8440780mf1_0.png</td>\n      <td>paris</td>\n    </tr>\n    <tr>\n      <th>261</th>\n      <td>[[(16.2663173676, 522.515411377), (18.88991546...</td>\n      <td>de</td>\n      <td>false</td>\n      <td>false</td>\n      <td>-1</td>\n      <td>None</td>\n      <td>12148_btv1b8440780mf1_0.png</td>\n      <td>paris</td>\n    </tr>\n    <tr>\n      <th>341</th>\n      <td>[[(0.76, 432.33), (58.6, 433.44)], [(59.93, 49...</td>\n      <td>le</td>\n      <td>false</td>\n      <td>false</td>\n      <td>-1</td>\n      <td>None</td>\n      <td>12148_btv1b8440780mf1_0.png</td>\n      <td>paris</td>\n    </tr>\n    <tr>\n      <th>421</th>\n      <td>[[(37.6, 879.66), (123.56, 851.82), (239.1, 82...</td>\n      <td>Seine</td>\n      <td>false</td>\n      <td>false</td>\n      <td>-1</td>\n      <td>None</td>\n      <td>12148_btv1b8440780mf1_0.png</td>\n      <td>paris</td>\n    </tr>\n    <tr>\n      <th>500</th>\n      <td>[[(323.5045928955, 742.2063674927), (325.55422...</td>\n      <td>R.</td>\n      <td>false</td>\n      <td>false</td>\n      <td>-1</td>\n      <td>None</td>\n      <td>12148_btv1b8440780mf1_0.png</td>\n      <td>paris</td>\n    </tr>\n    <tr>\n      <th>578</th>\n      <td>[[(604.81, 427.26), (684.52, 426.59)], [(683.8...</td>\n      <td>J.</td>\n      <td>false</td>\n      <td>false</td>\n      <td>-1</td>\n      <td>None</td>\n      <td>12148_btv1b8440780mf1_0.png</td>\n      <td>paris</td>\n    </tr>\n    <tr>\n      <th>654</th>\n      <td>[[(694.49, 425.93), (776.79, 426.59)], [(780.1...</td>\n      <td>G.</td>\n      <td>false</td>\n      <td>false</td>\n      <td>-1</td>\n      <td>None</td>\n      <td>12148_btv1b8440780mf1_0.png</td>\n      <td>paris</td>\n    </tr>\n    <tr>\n      <th>730</th>\n      <td>[[(790.81, 423.93), (982.78, 425.26)], [(984.1...</td>\n      <td>Heck</td>\n      <td>false</td>\n      <td>false</td>\n      <td>-1</td>\n      <td>None</td>\n      <td>12148_btv1b8440780mf1_0.png</td>\n      <td>paris</td>\n    </tr>\n    <tr>\n      <th>803</th>\n      <td>[[(887.97, 520.17), (998.95, 526.93)], [(998.9...</td>\n      <td>Fort</td>\n      <td>false</td>\n      <td>false</td>\n      <td>-1</td>\n      <td>None</td>\n      <td>12148_btv1b8440780mf1_0.png</td>\n      <td>paris</td>\n    </tr>\n    <tr>\n      <th>875</th>\n      <td>[[(764.62, 519.6), (858.29, 527.55)], [(858.86...</td>\n      <td>des</td>\n      <td>false</td>\n      <td>false</td>\n      <td>-1</td>\n      <td>None</td>\n      <td>12148_btv1b8440780mf1_0.png</td>\n      <td>paris</td>\n    </tr>\n    <tr>\n      <th>946</th>\n      <td>[[(110.74, 513.34), (411.93, 521.59)], [(410.3...</td>\n      <td>l'Enceinte</td>\n      <td>false</td>\n      <td>false</td>\n      <td>-1</td>\n      <td>None</td>\n      <td>12148_btv1b8440780mf1_0.png</td>\n      <td>paris</td>\n    </tr>\n    <tr>\n      <th>1019</th>\n      <td>[[(429.33, 517.59), (540.46, 523.52), (614.04,...</td>\n      <td>bastionnée,</td>\n      <td>false</td>\n      <td>false</td>\n      <td>-1</td>\n      <td>None</td>\n      <td>12148_btv1b8440780mf1_0.png</td>\n      <td>paris</td>\n    </tr>\n    <tr>\n      <th>1089</th>\n      <td>[[(211.54, 444.49), (253.82, 445.13)], [(255.1...</td>\n      <td>1:</td>\n      <td>false</td>\n      <td>false</td>\n      <td>-1</td>\n      <td>None</td>\n      <td>12148_btv1b8440780mf1_0.png</td>\n      <td>paris</td>\n    </tr>\n    <tr>\n      <th>1160</th>\n      <td>[[(257.72, 445.65), (440.31, 449.15)], [(439.9...</td>\n      <td>50,000</td>\n      <td>false</td>\n      <td>false</td>\n      <td>-1</td>\n      <td>None</td>\n      <td>12148_btv1b8440780mf1_0.png</td>\n      <td>paris</td>\n    </tr>\n    <tr>\n      <th>1229</th>\n      <td>[[(0.0, 319.68), (212.98, 323.45)], [(218.8, 4...</td>\n      <td>QUE</td>\n      <td>false</td>\n      <td>true</td>\n      <td>-1</td>\n      <td>None</td>\n      <td>12148_btv1b8440780mf1_0.png</td>\n      <td>paris</td>\n    </tr>\n    <tr>\n      <th>1297</th>\n      <td>[[(257.6, 323.5), (408.73, 321.52)], [(400.98,...</td>\n      <td>ET</td>\n      <td>false</td>\n      <td>false</td>\n      <td>-1</td>\n      <td>None</td>\n      <td>12148_btv1b8440780mf1_0.png</td>\n      <td>paris</td>\n    </tr>\n    <tr>\n      <th>1365</th>\n      <td>[[(255.62, 205.23), (366.1, 201.4)], [(381.6, ...</td>\n      <td>R.</td>\n      <td>false</td>\n      <td>false</td>\n      <td>-1</td>\n      <td>None</td>\n      <td>12148_btv1b8440780mf1_0.png</td>\n      <td>paris</td>\n    </tr>\n    <tr>\n      <th>1432</th>\n      <td>[[(383.53, 195.54), (457.18, 193.6)], [(462.99...</td>\n      <td>F.</td>\n      <td>false</td>\n      <td>false</td>\n      <td>-1</td>\n      <td>None</td>\n      <td>12148_btv1b8440780mf1_0.png</td>\n      <td>paris</td>\n    </tr>\n    <tr>\n      <th>1517</th>\n      <td>[[(158.7, 331.2), (147.09, 247.87), (152.9, 20...</td>\n      <td>BIBLIOTHEQUE</td>\n      <td>false</td>\n      <td>false</td>\n      <td>2</td>\n      <td>1</td>\n      <td>12148_btv1b8440780mf1_0.png</td>\n      <td>paris</td>\n    </tr>\n    <tr>\n      <th>1581</th>\n      <td>[[(416.48, 52.12), (457.18, 67.63), (503.69, 9...</td>\n      <td>NATIONALE</td>\n      <td>false</td>\n      <td>false</td>\n      <td>2</td>\n      <td>2</td>\n      <td>12148_btv1b8440780mf1_0.png</td>\n      <td>paris</td>\n    </tr>\n    <tr>\n      <th>1646</th>\n      <td>[[(279.56, 398.85), (337.95, 400.93), (366.11,...</td>\n      <td>GÉOGR.</td>\n      <td>false</td>\n      <td>false</td>\n      <td>2</td>\n      <td>3</td>\n      <td>12148_btv1b8440780mf1_0.png</td>\n      <td>paris</td>\n    </tr>\n    <tr>\n      <th>1712</th>\n      <td>[[(784.34, 833.83), (830.46, 834.75)], [(827.7...</td>\n      <td>St.</td>\n      <td>false</td>\n      <td>false</td>\n      <td>3</td>\n      <td>1</td>\n      <td>12148_btv1b8440780mf1_0.png</td>\n      <td>paris</td>\n    </tr>\n    <tr>\n      <th>1773</th>\n      <td>[[(831.02, 837.52), (959.75, 844.1)], [(959.4,...</td>\n      <td>Ouen</td>\n      <td>false</td>\n      <td>false</td>\n      <td>3</td>\n      <td>2</td>\n      <td>12148_btv1b8440780mf1_0.png</td>\n      <td>paris</td>\n    </tr>\n    <tr>\n      <th>1841</th>\n      <td>[[(779.97, 963.55), (821.5, 968.32)], [(819.59...</td>\n      <td>La</td>\n      <td>false</td>\n      <td>false</td>\n      <td>4</td>\n      <td>1</td>\n      <td>12148_btv1b8440780mf1_0.png</td>\n      <td>paris</td>\n    </tr>\n    <tr>\n      <th>1900</th>\n      <td>[[(831.9, 964.0), (886.17, 961.25)], [(882.79,...</td>\n      <td>Mon.</td>\n      <td>false</td>\n      <td>false</td>\n      <td>4</td>\n      <td>2</td>\n      <td>12148_btv1b8440780mf1_0.png</td>\n      <td>paris</td>\n    </tr>\n    <tr>\n      <th>1959</th>\n      <td>[[(889.12, 963.92), (1000.0, 962.85)], [(1000....</td>\n      <td>Blanche</td>\n      <td>false</td>\n      <td>true</td>\n      <td>4</td>\n      <td>3</td>\n      <td>12148_btv1b8440780mf1_0.png</td>\n      <td>paris</td>\n    </tr>\n  </tbody>\n</table>\n</div>"
     },
     "execution_count": 31,
     "metadata": {},
     "output_type": "execute_result"
    }
   ],
   "source": [
    "df_reordered[df_reordered[\"crop_name\"]==\"12148_btv1b8440780mf1_0.png\"]"
   ],
   "metadata": {
    "collapsed": false,
    "ExecuteTime": {
     "end_time": "2024-09-04T15:49:51.045478600Z",
     "start_time": "2024-09-04T15:49:51.036474400Z"
    }
   },
   "id": "9d565589735d3d5d",
   "execution_count": 31
  }
 ],
 "metadata": {
  "kernelspec": {
   "display_name": "Python 3",
   "language": "python",
   "name": "python3"
  },
  "language_info": {
   "codemirror_mode": {
    "name": "ipython",
    "version": 2
   },
   "file_extension": ".py",
   "mimetype": "text/x-python",
   "name": "python",
   "nbconvert_exporter": "python",
   "pygments_lexer": "ipython2",
   "version": "2.7.6"
  }
 },
 "nbformat": 4,
 "nbformat_minor": 5
}
